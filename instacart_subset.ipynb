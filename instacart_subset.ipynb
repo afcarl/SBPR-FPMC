{
 "cells": [
  {
   "cell_type": "code",
   "execution_count": 1,
   "metadata": {},
   "outputs": [
    {
     "name": "stderr",
     "output_type": "stream",
     "text": [
      "/Users/mortonjt/miniconda3/envs/cse258/lib/python3.6/site-packages/numba/decorators.py:149: RuntimeWarning: Caching is not available when the 'parallel' target is in use. Caching is now being disabled to allow execution to continue.\n",
      "  warnings.warn(msg, RuntimeWarning)\n"
     ]
    }
   ],
   "source": [
    "import numpy as np\n",
    "import numpy.testing as npt\n",
    "from numpy.random import poisson, randint, random\n",
    "from numpy.linalg import norm\n",
    "from scipy.sparse import csr_matrix\n",
    "from sbpr import (fast_bootstrap, update_user_matrix, update_item_matrix,\n",
    "                  simulate, user_item_ranks, _calc_ranks,\n",
    "                  cost, rank, sigmoid, auc, predict, f1_score, predict_top_ranks\n",
    "                 )\n",
    "import copy\n",
    "from bayes_opt import BayesianOptimization\n",
    "\n",
    "from collections import defaultdict\n",
    "import pandas as pd\n",
    "import matplotlib.pyplot as plt\n",
    "import pickle\n",
    "%matplotlib inline"
   ]
  },
  {
   "cell_type": "markdown",
   "metadata": {},
   "source": [
    "Load up the data."
   ]
  },
  {
   "cell_type": "code",
   "execution_count": 2,
   "metadata": {},
   "outputs": [],
   "source": [
    "prior_products = pd.read_csv('order_products__prior.csv')\n",
    "train_products = pd.read_csv('order_products__train.csv')\n",
    "orders = pd.read_csv('orders.csv')\n",
    "prior_orders = orders.loc[orders.eval_set=='prior']\n",
    "train_orders = orders.loc[orders.eval_set=='train']\n",
    "user_orders = prior_orders.user_id.value_counts()\n",
    "product_orders = prior_products.product_id.value_counts()"
   ]
  },
  {
   "cell_type": "markdown",
   "metadata": {},
   "source": [
    "Perform some preprocessing.  Here we will remove users and items with less than 20 counts."
   ]
  },
  {
   "cell_type": "code",
   "execution_count": 3,
   "metadata": {},
   "outputs": [],
   "source": [
    "## removing users\n",
    "user_set = set(user_orders.loc[user_orders > 50].index)\n",
    "prior_orders = prior_orders.loc[\n",
    "    [i in user_set for i in prior_orders.user_id]\n",
    "]\n",
    "train_orders = train_orders.loc[\n",
    "    [i in user_set for i in train_orders.user_id]\n",
    "]\n",
    "\n",
    "## removing items\n",
    "product_set = set(product_orders.loc[product_orders > 1000].index)\n",
    "prior_products = prior_products.loc[\n",
    "    [i in product_set for i in prior_products.product_id]\n",
    "]\n",
    "train_products = train_products.loc[\n",
    "    [i in product_set for i in train_products.product_id]\n",
    "]"
   ]
  },
  {
   "cell_type": "markdown",
   "metadata": {},
   "source": [
    "We'll merge together the users along with their orders and products"
   ]
  },
  {
   "cell_type": "code",
   "execution_count": 6,
   "metadata": {},
   "outputs": [],
   "source": [
    "A = prior_orders[['user_id', 'order_id', 'order_number']].sort_values('order_id')\n",
    "B = prior_products[['order_id', 'product_id']].sort_values('order_id')    \n",
    "C = pd.merge(A, B, on='order_id')\n",
    "prior = C.sort_values(by=['user_id', 'order_number']) # account for 1 offset\n",
    "\n",
    "A = train_orders[['user_id', 'order_id', 'order_number']].sort_values('order_id')\n",
    "B = train_products[['order_id', 'product_id']].sort_values('order_id')    \n",
    "C = pd.merge(A, B, on='order_id')\n",
    "train = C.sort_values(by=['user_id', 'order_number']) # account for 1 offset"
   ]
  },
  {
   "cell_type": "markdown",
   "metadata": {},
   "source": [
    "We will need to relabel all of the user_ids, order_numbers, and product_numbers\n",
    "to make sure that they are all based on 0-based indexing."
   ]
  },
  {
   "cell_type": "code",
   "execution_count": 7,
   "metadata": {},
   "outputs": [
    {
     "data": {
      "text/plain": [
       "LabelEncoder()"
      ]
     },
     "execution_count": 7,
     "metadata": {},
     "output_type": "execute_result"
    }
   ],
   "source": [
    "from sklearn import preprocessing\n",
    "le_user = preprocessing.LabelEncoder()\n",
    "le_product = preprocessing.LabelEncoder()\n",
    "\n",
    "le_product.fit(prior.product_id)\n",
    "le_user.fit(prior.user_id)"
   ]
  },
  {
   "cell_type": "code",
   "execution_count": 8,
   "metadata": {},
   "outputs": [],
   "source": [
    "prior['user_id'] = le_user.transform(prior['user_id'])\n",
    "train['user_id'] = le_user.transform(train['user_id'])\n",
    "\n",
    "prior['product_id'] = le_product.transform(prior['product_id'])\n",
    "train['product_id'] = le_product.transform(train['product_id'])"
   ]
  },
  {
   "cell_type": "markdown",
   "metadata": {},
   "source": [
    "We'll create an extra dataset to perform validation with."
   ]
  },
  {
   "cell_type": "code",
   "execution_count": 9,
   "metadata": {},
   "outputs": [],
   "source": [
    "from numba import jit\n",
    "@jit(nopython=True, cache=True)\n",
    "def stupid_query(X, sizes):\n",
    "    idx = np.zeros(X.shape[0])\n",
    "    for i in range(X.shape[0]):\n",
    "        u = X[i, 0]\n",
    "        o = X[i, 2]\n",
    "        idx[i] = (o == (sizes[u] - 1))\n",
    "    return idx"
   ]
  },
  {
   "cell_type": "code",
   "execution_count": 10,
   "metadata": {},
   "outputs": [],
   "source": [
    "sizes = prior.groupby(['user_id', 'order_id']).size()\n",
    "user_orders = [len(sizes[i]) for i in range(len(np.unique(prior.user_id)))]\n",
    "idx = stupid_query(prior.values, np.array(user_orders))\n",
    "idx = idx.astype(np.bool)\n",
    "\n",
    "prior_train = prior.iloc[~idx]\n",
    "prior_test = prior.iloc[idx]"
   ]
  },
  {
   "cell_type": "code",
   "execution_count": 256,
   "metadata": {},
   "outputs": [
    {
     "data": {
      "image/png": "[encoded data removed]",
      "text/plain": [
       "<matplotlib.figure.Figure at 0x125127d30>"
      ]
     },
     "metadata": {},
     "output_type": "display_data"
    }
   ],
   "source": [
    "plt.plot(np.sort(user_orders)[::-1])\n",
    "plt.xlabel('User rank', fontsize=14)\n",
    "plt.ylabel('Number of orders', fontsize=14)\n",
    "plt.savefig('figures/order_sizes.png')"
   ]
  },
  {
   "cell_type": "code",
   "execution_count": 11,
   "metadata": {},
   "outputs": [
    {
     "data": {
      "text/plain": [
       "5053"
      ]
     },
     "execution_count": 11,
     "metadata": {},
     "output_type": "execute_result"
    }
   ],
   "source": [
    "len(prior.product_id.unique())"
   ]
  },
  {
   "cell_type": "code",
   "execution_count": 12,
   "metadata": {},
   "outputs": [
    {
     "data": {
      "text/plain": [
       "5053"
      ]
     },
     "execution_count": 12,
     "metadata": {},
     "output_type": "execute_result"
    }
   ],
   "source": [
    "len(prior_train.product_id.unique())"
   ]
  },
  {
   "cell_type": "code",
   "execution_count": 13,
   "metadata": {},
   "outputs": [
    {
     "data": {
      "text/plain": [
       "10203"
      ]
     },
     "execution_count": 13,
     "metadata": {},
     "output_type": "execute_result"
    }
   ],
   "source": [
    "len(np.unique(prior_test.user_id))"
   ]
  },
  {
   "cell_type": "code",
   "execution_count": 14,
   "metadata": {},
   "outputs": [
    {
     "data": {
      "text/plain": [
       "10327"
      ]
     },
     "execution_count": 14,
     "metadata": {},
     "output_type": "execute_result"
    }
   ],
   "source": [
    "len(np.unique(prior_train.user_id))"
   ]
  },
  {
   "cell_type": "code",
   "execution_count": 16,
   "metadata": {},
   "outputs": [
    {
     "data": {
      "text/plain": [
       "10327"
      ]
     },
     "execution_count": 16,
     "metadata": {},
     "output_type": "execute_result"
    }
   ],
   "source": [
    "len(np.unique(prior.user_id))"
   ]
  },
  {
   "cell_type": "code",
   "execution_count": 17,
   "metadata": {},
   "outputs": [
    {
     "data": {
      "text/plain": [
       "6491"
      ]
     },
     "execution_count": 17,
     "metadata": {},
     "output_type": "execute_result"
    }
   ],
   "source": [
    "len(np.unique(train.user_id))"
   ]
  },
  {
   "cell_type": "code",
   "execution_count": 257,
   "metadata": {},
   "outputs": [
    {
     "data": {
      "text/plain": [
       "5953102"
      ]
     },
     "execution_count": 257,
     "metadata": {},
     "output_type": "execute_result"
    }
   ],
   "source": [
    "len(prior)"
   ]
  },
  {
   "cell_type": "code",
   "execution_count": 258,
   "metadata": {},
   "outputs": [
    {
     "data": {
      "text/plain": [
       "5860495"
      ]
     },
     "execution_count": 258,
     "metadata": {},
     "output_type": "execute_result"
    }
   ],
   "source": [
    "len(prior_train)"
   ]
  },
  {
   "cell_type": "code",
   "execution_count": 259,
   "metadata": {},
   "outputs": [
    {
     "data": {
      "text/plain": [
       "92607"
      ]
     },
     "execution_count": 259,
     "metadata": {},
     "output_type": "execute_result"
    }
   ],
   "source": [
    "len(prior_test)"
   ]
  },
  {
   "cell_type": "code",
   "execution_count": 260,
   "metadata": {},
   "outputs": [
    {
     "data": {
      "text/plain": [
       "59928"
      ]
     },
     "execution_count": 260,
     "metadata": {},
     "output_type": "execute_result"
    }
   ],
   "source": [
    "len(train)"
   ]
  },
  {
   "cell_type": "markdown",
   "metadata": {},
   "source": [
    "Let's build some models."
   ]
  },
  {
   "cell_type": "code",
   "execution_count": 215,
   "metadata": {},
   "outputs": [
    {
     "name": "stdout",
     "output_type": "stream",
     "text": [
      "cost -1.846 V_ui [-3.762, 3.676] V_iu [-4.423, 3.501] V_li [-4.524, 4.853] V_il [-4.603, 4.670]\n",
      "cost -0.359 V_ui [-3.203, 2.632] V_iu [-5.343, 2.777] V_li [-3.882, 3.813] V_il [-2.272, 2.573]\n",
      "cost -0.312 V_ui [-4.349, 1.743] V_iu [-11.723, 2.665] V_li [-3.559, 3.575] V_il [-1.503, 1.140]\n",
      "cost -0.320 V_ui [-3.887, 1.768] V_iu [-12.915, 2.892] V_li [-3.245, 3.365] V_il [-1.577, 1.196]\n",
      "cost -0.306 V_ui [-3.668, 1.305] V_iu [-12.551, 3.016] V_li [-3.139, 3.152] V_il [-1.576, 1.195]\n",
      "cost -0.320 V_ui [-3.669, 1.283] V_iu [-13.040, 3.277] V_li [-2.988, 2.957] V_il [-1.576, 1.195]\n"
     ]
    }
   ],
   "source": [
    "num_boots = 10000\n",
    "num_iters = 300\n",
    "\n",
    "kU = len(prior_train.user_id.unique())\n",
    "kI = len(prior_train.product_id.unique())\n",
    "kL = kI\n",
    "#params = {'clip': 10.0, 'rUI': 1.0, 'lam_iu': 0.0, 'decay': 1.0, 'alpha': 9.9999999999999995e-07, 'rIL': 1.0, 'lam_il': 100.0, 'lam_li': 0.0, 'lam_ui': 100.0}\n",
    "#params = {'alpha': 1.0,'clip': 10.0, 'decay': 0.69999999999999996, 'lam_il': 10.0, 'lam_iu': 0.0, 'lam_li': 0.0, 'lam_ui': 10.0, 'rIL': 1.0, 'rUI': 1.0}\n",
    "params = {'decay': 0.69999999999999996, 'lam_il': 100.0, 'lam_ui': 0.0, 'rUI': 1.0, 'clip': 10.0, 'alpha': 1.0, 'rIL': 100.0, 'lam_iu': 0.0, 'lam_li': 100.0}\n",
    "clip = params['clip']\n",
    "rIL = params['rIL']\n",
    "alpha = params['alpha']\n",
    "lam_il = params['lam_il']\n",
    "lam_ui = params['lam_ui']\n",
    "lam_iu = params['lam_iu']\n",
    "decay = params['decay']\n",
    "rUI = params['rUI']\n",
    "lam_li = params['lam_li']\n",
    "\n",
    "verbose = True\n",
    "\n",
    "rUI = int(rUI)\n",
    "rIL = int(rIL)\n",
    "V_ui = np.random.normal(size=(kU, rUI))\n",
    "V_iu = np.random.normal(size=(kI, rUI))\n",
    "V_li = np.random.normal(size=(kI, rIL))\n",
    "V_il = np.random.normal(size=(kI, rIL))\n",
    "\n",
    "I = list(range(kI))\n",
    "\n",
    "for b in range(num_iters):\n",
    "    gen = list(fast_bootstrap(prior_train.values, I, num_boots))\n",
    "\n",
    "    dV_ui = np.zeros(shape=(kU, rUI))\n",
    "    dV_iu = np.zeros(shape=(kI, rUI))\n",
    "    dV_li = np.zeros(shape=(kI, rIL))\n",
    "    dV_il = np.zeros(shape=(kI, rIL))\n",
    "\n",
    "    for boot in gen:\n",
    "        update_user_matrix(boot, dV_ui, dV_iu,\n",
    "                           V_ui, V_iu, V_li, V_il,\n",
    "                           alpha=alpha, lam_ui=lam_ui, lam_iu=lam_iu)\n",
    "\n",
    "        update_item_matrix(boot, dV_li, dV_il,\n",
    "                           V_ui, V_iu, V_li, V_il,\n",
    "                           alpha=alpha, lam_il=lam_il, lam_li=lam_li)\n",
    "\n",
    "    # gradient clipping:\n",
    "    # http://www.wildml.com/deep-learning-glossary/#gradient-clipping\n",
    "    V_ui += (dV_ui * clip) / norm(dV_ui)\n",
    "    V_iu += (dV_iu * clip) / norm(dV_iu)\n",
    "    V_li += (dV_li * clip) / norm(dV_li)\n",
    "    V_il += (dV_il * clip) / norm(dV_il)\n",
    "    c = 0 # cost\n",
    "    cs = []\n",
    "    for boot in gen:\n",
    "        c = cost(boot,\n",
    "                 V_ui, V_iu, V_li, V_il,\n",
    "                 lam_ui=0, lam_iu=0,\n",
    "                 lam_il=0, lam_li=0)\n",
    "        cs.append(c)\n",
    "    if np.mean(cs) > -0.1: break\n",
    "    alpha *= decay\n",
    "    if b % 50 == 0 and verbose:\n",
    "        print('cost %3.3f' % np.mean(cs),\n",
    "              'V_ui [%3.3f, %3.3f]'   % (V_ui.min(), V_ui.max()),\n",
    "              'V_iu [%3.3f, %3.3f]'   % (V_iu.min(), V_iu.max()),\n",
    "              'V_li [%3.3f, %3.3f]'   % (V_li.min(), V_li.max()),\n",
    "              'V_il [%3.3f, %3.3f]'   % (V_il.min(), V_il.max()))"
   ]
  },
  {
   "cell_type": "code",
   "execution_count": 254,
   "metadata": {},
   "outputs": [
    {
     "data": {
      "image/png": "[encoded data removed]",
      "text/plain": [
       "<matplotlib.figure.Figure at 0x124f88b70>"
      ]
     },
     "metadata": {},
     "output_type": "display_data"
    }
   ],
   "source": [
    "sns.distplot(np.exp(cs))\n",
    "plt.xlabel('exp(Cost)', fontsize=14)\n",
    "plt.ylabel('Bootstraps', fontsize=14)\n",
    "plt.savefig('figures/cost.png')"
   ]
  },
  {
   "cell_type": "code",
   "execution_count": 217,
   "metadata": {},
   "outputs": [
    {
     "data": {
      "text/plain": [
       "0.78330826783342544"
      ]
     },
     "execution_count": 217,
     "metadata": {},
     "output_type": "execute_result"
    }
   ],
   "source": [
    "np.mean(np.exp(cs))"
   ]
  },
  {
   "cell_type": "code",
   "execution_count": 245,
   "metadata": {},
   "outputs": [],
   "source": [
    "Us = prior_test.user_id.value_counts().sort_index()\n",
    "Us = np.array([\n",
    "    Us[i] if i in Us.index else 0\n",
    "    for i in range(len(np.unique(prior.user_id)))\n",
    "])\n",
    "\n",
    "est = predict(V_ui, V_iu, V_il, V_li, prior_test.values, Us, I, N=10, subsize=None)\n",
    "est = est.astype(np.int)"
   ]
  },
  {
   "cell_type": "code",
   "execution_count": 246,
   "metadata": {},
   "outputs": [],
   "source": [
    "f1, prec, rec = f1_score(est.astype(np.int), prior_test.values)"
   ]
  },
  {
   "cell_type": "code",
   "execution_count": 247,
   "metadata": {},
   "outputs": [
    {
     "data": {
      "text/plain": [
       "0.044767813868402742"
      ]
     },
     "execution_count": 247,
     "metadata": {},
     "output_type": "execute_result"
    }
   ],
   "source": [
    "f1"
   ]
  },
  {
   "cell_type": "code",
   "execution_count": 248,
   "metadata": {},
   "outputs": [],
   "source": [
    "prec, rec = np.array(prec), np.array(rec)"
   ]
  },
  {
   "cell_type": "code",
   "execution_count": 255,
   "metadata": {},
   "outputs": [
    {
     "data": {
      "image/png": "[encoded data removed]",
      "text/plain": [
       "<matplotlib.figure.Figure at 0x12469a588>"
      ]
     },
     "metadata": {},
     "output_type": "display_data"
    }
   ],
   "source": [
    "plt.scatter(prec, rec)\n",
    "plt.xlabel('Precision', fontsize=14)\n",
    "plt.ylabel('Recall', fontsize=14)\n",
    "plt.savefig('figures/precision_recall.png')"
   ]
  }
 ],
 "metadata": {
  "kernelspec": {
   "display_name": "Python 3",
   "language": "python",
   "name": "python3"
  },
  "language_info": {
   "codemirror_mode": {
    "name": "ipython",
    "version": 3
   },
   "file_extension": ".py",
   "mimetype": "text/x-python",
   "name": "python",
   "nbconvert_exporter": "python",
   "pygments_lexer": "ipython3",
   "version": "3.6.3"
  }
 },
 "nbformat": 4,
 "nbformat_minor": 2
}
